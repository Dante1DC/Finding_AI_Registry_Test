{
 "cells": [
  {
   "cell_type": "markdown",
   "metadata": {},
   "source": [
    "# Setup"
   ]
  },
  {
   "cell_type": "code",
   "execution_count": 50,
   "metadata": {},
   "outputs": [],
   "source": [
    "import pandas as pd\n",
    "import scipy as spy\n",
    "import matplotlib.pyplot as plot\n",
    "import numpy as np\n",
    "\n",
    "from sklearn.linear_model import LinearRegression as lr\n",
    "\n",
    "ANSWER_KEY = [\"Image 1\", \"Image 1\", \"Image 2\", \"Image 1\", \"Image 2\", \"Image 1\", \"Image 2\", \"Image 2\", \"Image 1\", \"Image 1\"]\n",
    "\n",
    "df = pd.read_csv(\"responses.csv\")"
   ]
  },
  {
   "cell_type": "markdown",
   "metadata": {},
   "source": [
    "# Data Cleaning"
   ]
  },
  {
   "cell_type": "code",
   "execution_count": 71,
   "metadata": {},
   "outputs": [
    {
     "data": {
      "text/plain": [
       "(74, 38)"
      ]
     },
     "execution_count": 71,
     "metadata": {},
     "output_type": "execute_result"
    }
   ],
   "source": [
    "# normalize the names of the features\n",
    "df = df.rename(columns={\"Timestamp\" : \"time\",\n",
    "                        \"What is your age?\" : \"age\",\n",
    "                        \"What is your highest level of education?\" : \"education\",\n",
    "                        \"What is your job? (Say \\\"N/A\\\" if not applicable, and \\\"Student\\\" if you're a student)\" : \"job\",\n",
    "                        \"How familiar are you with visual art? (Paintings, digital, sketches, etc.)\" : \"ai_familiarity\",\n",
    "                        \"Please describe your experience with art in a sentence, including mediums if you are an artist. If you have no familiarity with art, say \\\"None.\\\"\" : \"art_desc\",\n",
    "                        \"What's your opinion on AI-generated art?\" : \"ai_opinion\",\n",
    "                        \"Which image did you like more?\" : \"pref_0\",\n",
    "                        \"Which image do you think is AI generated?\" : \"ai_0\",\n",
    "                        \"Which image did you like more?.1\" : \"pref_1\",\n",
    "                        \"Which image do you think is AI generated?.1\" : \"ai_1\",\n",
    "                        \"Which image did you like more?.2\" : \"pref_2\",\n",
    "                        \"Which image do you think is AI generated?.2\" : \"ai_2\",\n",
    "                        \"Which image did you like more?.3\" : \"pref_3\",\n",
    "                        \"Which image do you think is AI generated?.3\" : \"ai_3\",\n",
    "                        \"Which image did you like more?.4\" : \"pref_4\",\n",
    "                        \"Which image do you think is AI generated?.4\" : \"ai_4\",\n",
    "                        \"Which image did you like more?.5\" : \"pref_5\",\n",
    "                        \"Which image do you think is AI generated?.5\" : \"ai_5\",\n",
    "                        \"Which image did you like more?.6\" : \"pref_6\",\n",
    "                        \"Which image do you think is AI generated?.6\" : \"ai_6\",\n",
    "                        \"Which image did you like more?.7\" : \"pref_7\",\n",
    "                        \"Which image do you think is AI generated?.7\" : \"ai_7\",\n",
    "                        \"Which image did you like more?.8\" : \"pref_8\",\n",
    "                        \"Which image do you think is AI generated?.8\" : \"ai_8\",\n",
    "                        \"Which image did you like more?.9\" : \"pref_9\",\n",
    "                        \"Which image do you think is AI generated?.9\" : \"ai_9\"})\n",
    "\n",
    "# drop the haters\n",
    "df[\"age\"] = pd.to_numeric(df[\"age\"], errors=\"coerce\")\n",
    "df = df.dropna(subset=[\"age\"])\n",
    "\n",
    "# add a feature for whether or not they got a question right\n",
    "for index in range(10):\n",
    "    df[\"ans_\" + str(index)] = df[\"ai_\" + str(index)] == ANSWER_KEY[index]"
   ]
  },
  {
   "cell_type": "markdown",
   "metadata": {},
   "source": [
    "# Description\n",
    "Current df struct:\n",
    "|time          |age           |education     |job           |ai_familiarity|art_desc     |ai_opinion   |pref_n       |ai_n         |ans_n        |\n",
    "|:------------:|:------------:|:------------:|:------------:|:------------:|:-----------:|:-----------:|:-----------:|:-----------:|:-----------:|\n",
    "|datetime|int|str|str|int; 1 - 5|str|int; -1, 0, 1|\"Image k\"|\"Image k\"|boolean|"
   ]
  },
  {
   "cell_type": "code",
   "execution_count": null,
   "metadata": {},
   "outputs": [],
   "source": []
  }
 ],
 "metadata": {
  "kernelspec": {
   "display_name": "Python 3",
   "language": "python",
   "name": "python3"
  },
  "language_info": {
   "codemirror_mode": {
    "name": "ipython",
    "version": 3
   },
   "file_extension": ".py",
   "mimetype": "text/x-python",
   "name": "python",
   "nbconvert_exporter": "python",
   "pygments_lexer": "ipython3",
   "version": "3.10.11"
  }
 },
 "nbformat": 4,
 "nbformat_minor": 2
}
