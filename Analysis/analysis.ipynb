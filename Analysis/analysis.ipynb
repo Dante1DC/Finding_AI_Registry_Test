{
 "cells": [
  {
   "cell_type": "markdown",
   "metadata": {},
   "source": [
    "# Table of Contents"
   ]
  },
  {
   "cell_type": "markdown",
   "metadata": {},
   "source": [
    "The following is an analysis of the \"responses.csv\" document in the same folder. Ensure you run the Setup and Data Cleaning sections before running any analysis, as the rest of the code base depends on it. Here is an overview of the contents of this document:"
   ]
  },
  {
   "cell_type": "markdown",
   "metadata": {},
   "source": [
    "1. Setup\n",
    "2. Data Cleaning\n",
    "3. Descriptive Statistics\n",
    "4. Analysis\n",
    "    - Art Familiarity vs. Number Correct\n",
    "    - AI Familiarity vs. Number Correct\n",
    "    - Generate Correlation Table\n",
    "    - Normality Verification - Anderson-Darling Test\n",
    "    - ANOVA, One-Way w/ AI Familiarity\n",
    "    - ANOVA, One-Way w/ Art Familiarity\n",
    "    - AI Familiarity Pairwise T-Test\n"
   ]
  },
  {
   "cell_type": "markdown",
   "metadata": {},
   "source": [
    "# Setup"
   ]
  },
  {
   "cell_type": "code",
   "execution_count": null,
   "metadata": {},
   "outputs": [],
   "source": [
    "import pandas as pd\n",
    "import scipy as spy\n",
    "import matplotlib.pyplot as plt\n",
    "import numpy as np\n",
    "import statsmodels.stats.multicomp as mc\n",
    "\n",
    "from sklearn.linear_model import LinearRegression as lr\n",
    "\n",
    "ANSWER_KEY = [\"Image 1\", \"Image 1\", \"Image 2\", \"Image 1\", \"Image 2\", \"Image 1\", \"Image 2\", \"Image 2\", \"Image 1\", \"Image 1\"]\n",
    "\n",
    "df = pd.read_csv(\"responses.csv\")"
   ]
  },
  {
   "cell_type": "markdown",
   "metadata": {},
   "source": [
    "# Data Cleaning"
   ]
  },
  {
   "cell_type": "code",
   "execution_count": null,
   "metadata": {},
   "outputs": [],
   "source": [
    "# normalize the names of the features\n",
    "df = df.rename(columns={\"Timestamp\" : \"time\",\n",
    "                        \"What is your age?\" : \"age\",\n",
    "                        \"What is your highest level of education?\" : \"education\",\n",
    "                        \"What is your job? (Say \\\"N/A\\\" if not applicable, and \\\"Student\\\" if you're a student)\" : \"job\",\n",
    "                        \"How familiar are you with visual art? (Paintings, digital, sketches, etc.)\" : \"art_familiarity\",\n",
    "                        \"Please describe your experience with art in a sentence, including mediums if you are an artist. If you have no familiarity with art, say \\\"None.\\\"\" : \"art_desc\",\n",
    "                        \"How familiar are you with artificial intelligence (AI)?\" : \"ai_familiarity\",\n",
    "                        \"What's your opinion on AI-generated art?\" : \"ai_opinion\",\n",
    "                        \"Which image did you like more?\" : \"pref_0\",\n",
    "                        \"Which image do you think is AI generated?\" : \"ai_0\",\n",
    "                        \"Which image did you like more?.1\" : \"pref_1\",\n",
    "                        \"Which image do you think is AI generated?.1\" : \"ai_1\",\n",
    "                        \"Which image did you like more?.2\" : \"pref_2\",\n",
    "                        \"Which image do you think is AI generated?.2\" : \"ai_2\",\n",
    "                        \"Which image did you like more?.3\" : \"pref_3\",\n",
    "                        \"Which image do you think is AI generated?.3\" : \"ai_3\",\n",
    "                        \"Which image did you like more?.4\" : \"pref_4\",\n",
    "                        \"Which image do you think is AI generated?.4\" : \"ai_4\",\n",
    "                        \"Which image did you like more?.5\" : \"pref_5\",\n",
    "                        \"Which image do you think is AI generated?.5\" : \"ai_5\",\n",
    "                        \"Which image did you like more?.6\" : \"pref_6\",\n",
    "                        \"Which image do you think is AI generated?.6\" : \"ai_6\",\n",
    "                        \"Which image did you like more?.7\" : \"pref_7\",\n",
    "                        \"Which image do you think is AI generated?.7\" : \"ai_7\",\n",
    "                        \"Which image did you like more?.8\" : \"pref_8\",\n",
    "                        \"Which image do you think is AI generated?.8\" : \"ai_8\",\n",
    "                        \"Which image did you like more?.9\" : \"pref_9\",\n",
    "                        \"Which image do you think is AI generated?.9\" : \"ai_9\"})\n",
    "\n",
    "# drop the haters\n",
    "df[\"age\"] = pd.to_numeric(df[\"age\"], errors=\"coerce\")\n",
    "df = df.dropna(subset=[\"age\"])\n",
    "\n",
    "# add a feature for whether or not they got a question right\n",
    "for index in range(10):\n",
    "    df[\"ans_\" + str(index)] = df[\"ai_\" + str(index)] == ANSWER_KEY[index]\n",
    "\n",
    "# add a feature for total number of correct answers    \n",
    "df[\"num_correct\"] = 0\n",
    "for i, row in df.iterrows():\n",
    "    for index in range(10):\n",
    "        if row[\"ans_\" + str(index)] == True:\n",
    "            df[\"num_correct\"][i] = df[\"num_correct\"][i] + 1"
   ]
  },
  {
   "cell_type": "markdown",
   "metadata": {},
   "source": [
    "# Descriptive Statistics\n",
    "Current df struct:\n",
    "|time          |age           |education     |job           |art_familiarity|art_desc     |ai_familitiary |ai_opinion   |pref_n       |ai_n         |ans_n        |\n",
    "|:------------:|:------------:|:------------:|:------------:|:------------:|:-----------:|:-----------:|:-----------:|:-----------:|:-----------:|:-----------:|\n",
    "|datetime|int|str|str|int; 1 - 5|str|int; 1 - 5|int; -1, 0, 1|\"Image k\"|\"Image k\"|boolean|"
   ]
  },
  {
   "cell_type": "code",
   "execution_count": null,
   "metadata": {},
   "outputs": [],
   "source": [
    "df.describe()"
   ]
  },
  {
   "cell_type": "markdown",
   "metadata": {},
   "source": [
    "# Analysis"
   ]
  },
  {
   "cell_type": "markdown",
   "metadata": {},
   "source": [
    "## Art Familiarity vs. Number Correct"
   ]
  },
  {
   "cell_type": "code",
   "execution_count": null,
   "metadata": {},
   "outputs": [],
   "source": [
    "# create scatter plots w/ linear regression models\n",
    "\n",
    "plt.scatter(df[\"art_familiarity\"], df[\"num_correct\"])\n",
    "df[\"num_correct\"]\n",
    "lr1 = lr()\n",
    "X = df[\"art_familiarity\"].to_numpy().reshape(-1, 1)\n",
    "x = df[\"art_familiarity\"]\n",
    "y =  df[\"num_correct\"]\n",
    "lr1.fit(X, y)\n",
    "b = lr1.intercept_\n",
    "m = lr1.coef_\n",
    "plt.plot(x, m*x+b, \"-r\")\n",
    "y_hat = lr1.predict(X)\n",
    "print(np.average(abs(y - y_hat)))\n",
    "print(np.sum(abs(y - y_hat))/len(y))\n",
    "plt.title(\"Art Familiarity vs. Number Correct\")\n",
    "plt.xlabel(\"Art Familiarity\")\n",
    "plt.ylabel(\"Number Correct\")"
   ]
  },
  {
   "cell_type": "markdown",
   "metadata": {},
   "source": [
    "## AI Familiarity vs. Number Correct"
   ]
  },
  {
   "cell_type": "code",
   "execution_count": null,
   "metadata": {},
   "outputs": [],
   "source": [
    "# create scatter plots w/ linear regression models\n",
    "\n",
    "plt.scatter(df[\"ai_familiarity\"], df[\"num_correct\"])\n",
    "df[\"num_correct\"]\n",
    "linreg = lr()\n",
    "X1 = df[\"ai_familiarity\"].to_numpy().reshape(-1, 1)\n",
    "x1 = df[\"ai_familiarity\"]\n",
    "y1 =  df[\"num_correct\"]\n",
    "linreg.fit(X1, y1)\n",
    "b1 = linreg.intercept_\n",
    "m1 = linreg.coef_\n",
    "plt.plot(x1, m1*x1+b1, \"-r\")\n",
    "y_hat1 = linreg.predict(X1)\n",
    "print(np.average(abs(y1 - y_hat1)))\n",
    "print(np.sum(abs(y1 - y_hat1))/len(y1))\n",
    "plt.title(\"AI Familiarity vs. Number Correct\")\n",
    "plt.xlabel(\"AI Familiarity\")\n",
    "plt.ylabel(\"Number Correct\")"
   ]
  },
  {
   "cell_type": "markdown",
   "metadata": {},
   "source": [
    "## Generate Correlation Table"
   ]
  },
  {
   "cell_type": "code",
   "execution_count": null,
   "metadata": {},
   "outputs": [],
   "source": [
    "df.corr(numeric_only=True)"
   ]
  },
  {
   "cell_type": "markdown",
   "metadata": {},
   "source": [
    "## Normality Verification - Anderson-Darling Test"
   ]
  },
  {
   "cell_type": "code",
   "execution_count": null,
   "metadata": {},
   "outputs": [],
   "source": [
    "# perform Anderson Test for normality\n",
    "\n",
    "print(spy.stats.anderson(df[\"num_correct\"], dist=\"norm\"))\n",
    "plt.hist(df[\"num_correct\"])\n",
    "plt.title(\"Number Correct\")\n",
    "\n",
    "plt.show()\n",
    "plt.hist(df[\"ai_familiarity\"],bins=5)\n",
    "print(spy.stats.anderson(df[\"ai_familiarity\"], dist=\"norm\"))\n",
    "plt.title(\"AI Familiarity\")\n",
    "\n",
    "plt.show()\n",
    "plt.hist(df[\"art_familiarity\"],bins=5)\n",
    "plt.title(\"Art Familiarity\")\n",
    "\n",
    "print(spy.stats.anderson(df[\"art_familiarity\"], dist=\"norm\"))\n",
    "\n",
    "\n"
   ]
  },
  {
   "cell_type": "markdown",
   "metadata": {},
   "source": [
    "## ANOVA, One-Way w/ AI Familiarity"
   ]
  },
  {
   "cell_type": "code",
   "execution_count": null,
   "metadata": {},
   "outputs": [],
   "source": [
    "# Ai familiarity ANOVA\n",
    "ai_familiarity1 = df.loc[df[\"ai_familiarity\"] == 1]\n",
    "ai_familiarity2 = df.loc[df[\"ai_familiarity\"] == 2]\n",
    "ai_familiarity3 = df.loc[df[\"ai_familiarity\"] == 3]\n",
    "ai_familiarity4 = df.loc[df[\"ai_familiarity\"] == 4]\n",
    "ai_familiarity5 = df.loc[df[\"ai_familiarity\"] == 5]\n",
    "spy.stats.f_oneway(ai_familiarity1[\"num_correct\"], ai_familiarity2[\"num_correct\"], ai_familiarity3[\"num_correct\"], ai_familiarity4[\"num_correct\"], ai_familiarity5[\"num_correct\"])\n",
    "\n"
   ]
  },
  {
   "cell_type": "markdown",
   "metadata": {},
   "source": [
    "## ANOVA, One-Way w/ Art Familiarity"
   ]
  },
  {
   "cell_type": "code",
   "execution_count": null,
   "metadata": {},
   "outputs": [],
   "source": [
    "# Art familiarity ANOVA\n",
    "art_familiarity1 = df.loc[df[\"art_familiarity\"] == 1]\n",
    "art_familiarity2 = df.loc[df[\"art_familiarity\"] == 2]\n",
    "art_familiarity3 = df.loc[df[\"art_familiarity\"] == 3]\n",
    "art_familiarity4 = df.loc[df[\"art_familiarity\"] == 4]\n",
    "art_familiarity5 = df.loc[df[\"art_familiarity\"] == 5]\n",
    "spy.stats.f_oneway(art_familiarity1[\"num_correct\"], art_familiarity2[\"num_correct\"], art_familiarity3[\"num_correct\"], art_familiarity4[\"num_correct\"], art_familiarity5[\"num_correct\"])\n",
    "\n"
   ]
  },
  {
   "cell_type": "markdown",
   "metadata": {},
   "source": [
    "## AI Familiarity Pairwise T-Test"
   ]
  },
  {
   "cell_type": "code",
   "execution_count": null,
   "metadata": {},
   "outputs": [],
   "source": [
    "# AI familiarity Pairwise T-test\n",
    "comp1 = mc.MultiComparison(df[\"num_correct\"], df[\"ai_familiarity\"])\n",
    "tbl, a1, a2 = comp1.allpairtest(spy.stats.ttest_ind, method= \"bonf\")\n",
    "print(tbl)"
   ]
  }
 ],
 "metadata": {
  "kernelspec": {
   "display_name": "Python 3",
   "language": "python",
   "name": "python3"
  },
  "language_info": {
   "codemirror_mode": {
    "name": "ipython",
    "version": 3
   },
   "file_extension": ".py",
   "mimetype": "text/x-python",
   "name": "python",
   "nbconvert_exporter": "python",
   "pygments_lexer": "ipython3",
   "version": "3.10.11"
  }
 },
 "nbformat": 4,
 "nbformat_minor": 2
}
